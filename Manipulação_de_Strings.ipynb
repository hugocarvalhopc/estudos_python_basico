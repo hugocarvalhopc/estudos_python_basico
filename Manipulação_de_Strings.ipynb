{
  "nbformat": 4,
  "nbformat_minor": 0,
  "metadata": {
    "colab": {
      "name": "Manipulação de Strings.ipynb",
      "provenance": [],
      "authorship_tag": "ABX9TyOhCRREepiGUr5d4Yg91slS"
    },
    "kernelspec": {
      "name": "python3",
      "display_name": "Python 3"
    },
    "language_info": {
      "name": "python"
    }
  },
  "cells": [
    {
      "cell_type": "markdown",
      "source": [
        "**Manipulação de Strings**"
      ],
      "metadata": {
        "id": "xrQTDL44Fr5u"
      }
    },
    {
      "cell_type": "code",
      "source": [
        "frase1 = \"Não entre em pânico\"\n",
        "print(frase1)"
      ],
      "metadata": {
        "colab": {
          "base_uri": "https://localhost:8080/"
        },
        "id": "B3IxIV81Funn",
        "outputId": "54503f10-57fb-48a4-c48a-7bced25deeb3"
      },
      "execution_count": 9,
      "outputs": [
        {
          "output_type": "stream",
          "name": "stdout",
          "text": [
            "Não entre em pânico\n"
          ]
        }
      ]
    },
    {
      "cell_type": "markdown",
      "source": [
        "Transformar para Maiúscula"
      ],
      "metadata": {
        "id": "AP36J8gKGHL2"
      }
    },
    {
      "cell_type": "code",
      "source": [
        "maiuscula = frase1.upper()\n",
        "print(maiuscula)"
      ],
      "metadata": {
        "colab": {
          "base_uri": "https://localhost:8080/"
        },
        "id": "Dj-QpbI6GJQ7",
        "outputId": "a850bf44-96ac-4923-cc57-272e6027945a"
      },
      "execution_count": 11,
      "outputs": [
        {
          "output_type": "stream",
          "name": "stdout",
          "text": [
            "NÃO ENTRE EM PÂNICO\n"
          ]
        }
      ]
    },
    {
      "cell_type": "markdown",
      "source": [
        "Transformar para Minúscula"
      ],
      "metadata": {
        "id": "TKtqW5qRGlX-"
      }
    },
    {
      "cell_type": "code",
      "source": [
        "minuscula = frase1.lower()\n",
        "print(minuscula)"
      ],
      "metadata": {
        "colab": {
          "base_uri": "https://localhost:8080/"
        },
        "id": "k5RpA09EGoEe",
        "outputId": "4a919c9c-0a88-463d-9395-121013b87dc2"
      },
      "execution_count": 12,
      "outputs": [
        {
          "output_type": "stream",
          "name": "stdout",
          "text": [
            "não entre em pânico\n"
          ]
        }
      ]
    },
    {
      "cell_type": "markdown",
      "source": [
        "Transformar para Capital"
      ],
      "metadata": {
        "id": "5Opc9S5QHHAm"
      }
    },
    {
      "cell_type": "code",
      "source": [
        "capital = frase1.capitalize()\n",
        "print(capital)"
      ],
      "metadata": {
        "colab": {
          "base_uri": "https://localhost:8080/"
        },
        "id": "s-Oz_xumHI0W",
        "outputId": "a2fbde40-c079-4215-981a-36add87fc591"
      },
      "execution_count": 13,
      "outputs": [
        {
          "output_type": "stream",
          "name": "stdout",
          "text": [
            "Não entre em pânico\n"
          ]
        }
      ]
    },
    {
      "cell_type": "markdown",
      "source": [
        "Dividir em pedaços"
      ],
      "metadata": {
        "id": "acFZS9soHTPu"
      }
    },
    {
      "cell_type": "code",
      "source": [
        "metade_frase = frase1[0:9]\n",
        "print(metade_frase)"
      ],
      "metadata": {
        "colab": {
          "base_uri": "https://localhost:8080/"
        },
        "id": "YycwZ6z-HWz0",
        "outputId": "31cdd401-5cb2-43be-fad6-d20c2f8d5d1f"
      },
      "execution_count": 16,
      "outputs": [
        {
          "output_type": "stream",
          "name": "stdout",
          "text": [
            "Não entre\n"
          ]
        }
      ]
    },
    {
      "cell_type": "markdown",
      "source": [
        "Últimas letras"
      ],
      "metadata": {
        "id": "PcML7vpYIkXm"
      }
    },
    {
      "cell_type": "code",
      "source": [
        "ultimas_letras_frase = frase1[3:]\n",
        "print(ultimas_letras_frase)"
      ],
      "metadata": {
        "colab": {
          "base_uri": "https://localhost:8080/"
        },
        "id": "4ql93PsfIm2u",
        "outputId": "d0ceba67-e5c5-431a-cf88-2d610026aaf1"
      },
      "execution_count": 19,
      "outputs": [
        {
          "output_type": "stream",
          "name": "stdout",
          "text": [
            " entre em pânico\n"
          ]
        }
      ]
    },
    {
      "cell_type": "markdown",
      "source": [
        "Substituir caractéres"
      ],
      "metadata": {
        "id": "ardL_czFJegF"
      }
    },
    {
      "cell_type": "code",
      "source": [
        "substituicao = frase1.replace(\"pânico\", \"casa\")\n",
        "print(frase1)\n",
        "print(substituicao)"
      ],
      "metadata": {
        "colab": {
          "base_uri": "https://localhost:8080/"
        },
        "id": "B7KlihTzJhL2",
        "outputId": "5d6c4648-4c6f-46fa-cb0d-ccd993c52013"
      },
      "execution_count": 21,
      "outputs": [
        {
          "output_type": "stream",
          "name": "stdout",
          "text": [
            "Não entre em pânico\n",
            "Não entre em casa\n"
          ]
        }
      ]
    },
    {
      "cell_type": "markdown",
      "source": [
        "Pesquisa dentro da String"
      ],
      "metadata": {
        "id": "wG_hY-UMJ5Ac"
      }
    },
    {
      "cell_type": "code",
      "source": [
        "pesquisa = frase1.find(\"p\")\n",
        "print(pesquisa)"
      ],
      "metadata": {
        "colab": {
          "base_uri": "https://localhost:8080/"
        },
        "id": "mxNRj_8CJ66N",
        "outputId": "38d84e8a-3e1e-4326-9235-634e8285c42d"
      },
      "execution_count": 22,
      "outputs": [
        {
          "output_type": "stream",
          "name": "stdout",
          "text": [
            "13\n"
          ]
        }
      ]
    },
    {
      "cell_type": "markdown",
      "source": [
        "Tamanho de uma String"
      ],
      "metadata": {
        "id": "l9cW_efAKVoN"
      }
    },
    {
      "cell_type": "code",
      "source": [
        "print(len(frase1))"
      ],
      "metadata": {
        "colab": {
          "base_uri": "https://localhost:8080/"
        },
        "id": "rzsEXOpvKXYk",
        "outputId": "1a10eb7c-c932-4339-8411-8e87b4bc1479"
      },
      "execution_count": 24,
      "outputs": [
        {
          "output_type": "stream",
          "name": "stdout",
          "text": [
            "19\n"
          ]
        }
      ]
    },
    {
      "cell_type": "markdown",
      "source": [
        "Remover espaços em branco"
      ],
      "metadata": {
        "id": "2ntC7AinKz4b"
      }
    },
    {
      "cell_type": "code",
      "source": [
        "frase2 = \" Não entre em Pânico \"\n",
        "print(len(frase2))\n",
        "\n",
        "remover_espacos = frase2.strip()\n",
        "print(len(remover_espacos))"
      ],
      "metadata": {
        "colab": {
          "base_uri": "https://localhost:8080/"
        },
        "id": "lCfVaRsTK1jD",
        "outputId": "96fd9bc9-12b8-441d-aceb-f9dfd3a6e0f8"
      },
      "execution_count": 29,
      "outputs": [
        {
          "output_type": "stream",
          "name": "stdout",
          "text": [
            "21\n",
            "19\n"
          ]
        }
      ]
    },
    {
      "cell_type": "markdown",
      "source": [
        "Formatação de Strings (importante)"
      ],
      "metadata": {
        "id": "2OnF24gmLx5d"
      }
    },
    {
      "cell_type": "code",
      "source": [
        "n1 = 13\n",
        "n2 = 20\n",
        "\n",
        "print(f\"Somando {n1} com {n2} temos: {n1 + n2}\")"
      ],
      "metadata": {
        "colab": {
          "base_uri": "https://localhost:8080/"
        },
        "id": "8IITN55CMJBU",
        "outputId": "b2440754-c436-4eef-8c44-24c40ae51411"
      },
      "execution_count": 30,
      "outputs": [
        {
          "output_type": "stream",
          "name": "stdout",
          "text": [
            "Somando 13 com 20 temos: 33\n"
          ]
        }
      ]
    }
  ]
}