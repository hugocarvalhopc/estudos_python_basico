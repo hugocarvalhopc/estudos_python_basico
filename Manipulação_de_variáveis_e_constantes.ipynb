{
  "nbformat": 4,
  "nbformat_minor": 0,
  "metadata": {
    "colab": {
      "name": "Manipulação de variáveis e constantes",
      "provenance": [],
      "authorship_tag": "ABX9TyNTNhwrwqltlLUZvHVteBkc",
      "include_colab_link": true
    },
    "kernelspec": {
      "name": "python3",
      "display_name": "Python 3"
    },
    "language_info": {
      "name": "python"
    }
  },
  "cells": [
    {
      "cell_type": "markdown",
      "metadata": {
        "id": "view-in-github",
        "colab_type": "text"
      },
      "source": [
        "<a href=\"https://colab.research.google.com/github/hugocarvalhopc/estudos_python_basico/blob/master/Manipula%C3%A7%C3%A3o_de_vari%C3%A1veis_e_constantes.ipynb\" target=\"_parent\"><img src=\"https://colab.research.google.com/assets/colab-badge.svg\" alt=\"Open In Colab\"/></a>"
      ]
    },
    {
      "cell_type": "markdown",
      "source": [
        "**Variáveis Inteiras**"
      ],
      "metadata": {
        "id": "5dwWOweb-Pq2"
      }
    },
    {
      "cell_type": "code",
      "source": [
        "numero = 10\n",
        "numero_jogos = 15\n",
        "numero_convidados = 20"
      ],
      "metadata": {
        "id": "ARpuZGZfANyH"
      },
      "execution_count": 15,
      "outputs": []
    },
    {
      "cell_type": "code",
      "source": [
        "print(numero)\n",
        "print(numero_jogos)\n",
        "print(numero_convidados)"
      ],
      "metadata": {
        "colab": {
          "base_uri": "https://localhost:8080/"
        },
        "id": "1KeFajevASTf",
        "outputId": "d17cc74d-9287-4c69-c328-27cb51f98e0d"
      },
      "execution_count": 16,
      "outputs": [
        {
          "output_type": "stream",
          "name": "stdout",
          "text": [
            "10\n",
            "15\n",
            "20\n"
          ]
        }
      ]
    },
    {
      "cell_type": "markdown",
      "source": [
        "**Variáveis float (ponto flutuantes)**"
      ],
      "metadata": {
        "id": "VipEQyMCAbuf"
      }
    },
    {
      "cell_type": "code",
      "source": [
        "pi = 3.14\n",
        "numero_euler = 2.71\n",
        "escala_terremoto = -4.55"
      ],
      "metadata": {
        "id": "UnhBSP1cAkaQ"
      },
      "execution_count": 17,
      "outputs": []
    },
    {
      "cell_type": "code",
      "source": [
        "print(pi, numero_euler, escala_terremoto)"
      ],
      "metadata": {
        "colab": {
          "base_uri": "https://localhost:8080/"
        },
        "id": "m0bo27MVAvOO",
        "outputId": "2bc62471-deef-4521-bce0-33f2c458d1b2"
      },
      "execution_count": 18,
      "outputs": [
        {
          "output_type": "stream",
          "name": "stdout",
          "text": [
            "3.14 2.71 -4.55\n"
          ]
        }
      ]
    },
    {
      "cell_type": "markdown",
      "source": [
        "**Strings e Char**"
      ],
      "metadata": {
        "id": "Sm1miqG0A5nN"
      }
    },
    {
      "cell_type": "code",
      "source": [
        "letra = 'a' #char: 1 caractére\n",
        "palavra1 = \"linguagem de programação\" #string: conjunto de caractéres\n",
        "palavra2 = \"Python\" #string: conjunto de caractéres"
      ],
      "metadata": {
        "id": "LxT0ufdsA8SX"
      },
      "execution_count": 19,
      "outputs": []
    },
    {
      "cell_type": "code",
      "source": [
        "print(letra)\n",
        "\n",
        "print(\"Estou estudando uma\", palavra1)\n",
        "print(\"Que se chama\", palavra2)"
      ],
      "metadata": {
        "colab": {
          "base_uri": "https://localhost:8080/"
        },
        "id": "ocUNNguxB51I",
        "outputId": "d222ed06-2f96-4681-9e85-f5b0ab70edd8"
      },
      "execution_count": 21,
      "outputs": [
        {
          "output_type": "stream",
          "name": "stdout",
          "text": [
            "a\n",
            "Estou estudando uma linguagem de programação\n",
            "Que se chama Python\n"
          ]
        }
      ]
    },
    {
      "cell_type": "code",
      "source": [
        "idade = int(input(\"Qual a sua idade? \"))\n",
        "print(\"Sua idade é:\", idade)"
      ],
      "metadata": {
        "colab": {
          "base_uri": "https://localhost:8080/"
        },
        "id": "JktYW0vOCJW2",
        "outputId": "557ec523-3505-4a48-d538-4d64adab890d"
      },
      "execution_count": 23,
      "outputs": [
        {
          "output_type": "stream",
          "name": "stdout",
          "text": [
            "Qual a sua idade? 19\n",
            "Sua idade é: 19\n"
          ]
        }
      ]
    },
    {
      "cell_type": "code",
      "source": [
        "nome = str(input(\"Qual o seu nome? \"))\n",
        "print(\"Seu nome é:\", nome)"
      ],
      "metadata": {
        "colab": {
          "base_uri": "https://localhost:8080/"
        },
        "id": "DV0L_p6sCjSO",
        "outputId": "2d33f05b-0359-4242-ff33-9d7af6d2d622"
      },
      "execution_count": 27,
      "outputs": [
        {
          "output_type": "stream",
          "name": "stdout",
          "text": [
            "Qual o seu nome? Huginho\n",
            "Seu nome é: Huginho\n"
          ]
        }
      ]
    },
    {
      "cell_type": "code",
      "source": [
        "Ph = float(input(\"Qual o Ph da água na sua região? \"))\n",
        "print(\"Então o Ph da água na sua região é exatamente:\", Ph)"
      ],
      "metadata": {
        "colab": {
          "base_uri": "https://localhost:8080/"
        },
        "id": "glhFCXy2DSEr",
        "outputId": "7fdc8d16-ffd8-4055-c9d5-281e30f80009"
      },
      "execution_count": 26,
      "outputs": [
        {
          "output_type": "stream",
          "name": "stdout",
          "text": [
            "Qual o Ph da água na sua região? 2.7\n",
            "Então o Ph da água na sua região é exatamente: 2.7\n"
          ]
        }
      ]
    },
    {
      "cell_type": "code",
      "source": [
        ""
      ],
      "metadata": {
        "id": "zQQUsYlKDgJW"
      },
      "execution_count": null,
      "outputs": []
    }
  ]
}